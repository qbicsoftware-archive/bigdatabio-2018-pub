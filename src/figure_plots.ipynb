{
 "cells": [
  {
   "cell_type": "code",
   "execution_count": 81,
   "metadata": {},
   "outputs": [],
   "source": [
    "\"\"\"\n",
    "Plotting script for PRIDE stats visualization\n",
    "\n",
    "Takes the project accession number with their registration dates as one input file,\n",
    "and the queried file sizes for each registration date as another input file.\n",
    "\n",
    "Number of projects and file sizes will be accumulated for each year and then displayed\n",
    "as a scatterplot with connected lines.\n",
    "\n",
    "Author: Sven Fillinger and Luis de la Garza, Quantitative Biology Center, University of Tübingen\n",
    "Date: 15-10-2018\n",
    "\"\"\"\n",
    "import sys\n",
    "import os\n",
    "import pandas as pd\n",
    "import seaborn as sn\n",
    "import matplotlib.pyplot as plt\n",
    "sn.set_style(\"ticks\")\n"
   ]
  },
  {
   "cell_type": "code",
   "execution_count": 2,
   "metadata": {},
   "outputs": [],
   "source": [
    "# Load the input data\n",
    "# 1st the PRIDE project accessions and registration date\n",
    "date_projects_map = {}\n",
    "\n",
    "with open(\"pride_growth/project_accessions_and_date.tsv\", \"r\") as fh: content = fh.readlines()\n",
    "\n",
    "for line in content:\n",
    "    accession, date = line.strip().split(\"\\t\")\n",
    "    year = date.split(\"-\")[0]\n",
    "    if not date_projects_map.get(year):\n",
    "        date_projects_map[year] = 1\n",
    "    else:\n",
    "        date_projects_map[year] += 1"
   ]
  },
  {
   "cell_type": "code",
   "execution_count": 3,
   "metadata": {},
   "outputs": [
    {
     "data": {
      "text/plain": [
       "{'2005': 6,\n",
       " '2006': 18,\n",
       " '2007': 36,\n",
       " '2008': 58,\n",
       " '2009': 110,\n",
       " '2010': 185,\n",
       " '2011': 297,\n",
       " '2012': 480,\n",
       " '2013': 735,\n",
       " '2014': 1221,\n",
       " '2015': 2017,\n",
       " '2016': 3213,\n",
       " '2017': 4535,\n",
       " '2018': 5931}"
      ]
     },
     "execution_count": 3,
     "metadata": {},
     "output_type": "execute_result"
    }
   ],
   "source": [
    "# Accumulate accessions per year\n",
    "acc_year_project_map = {}\n",
    "acc_sum = 0\n",
    "for year, accessions in date_projects_map.items():\n",
    "    acc_sum += accessions\n",
    "    acc_year_project_map[year] = acc_sum\n",
    "acc_year_project_map"
   ]
  },
  {
   "cell_type": "code",
   "execution_count": 4,
   "metadata": {},
   "outputs": [
    {
     "data": {
      "text/plain": [
       "{'2005': 0.000249712625,\n",
       " '2006': 0.001032807479,\n",
       " '2007': 0.006949405677,\n",
       " '2008': 0.10605315190299999,\n",
       " '2009': 0.275854269367,\n",
       " '2010': 0.136562820052,\n",
       " '2011': 0.3139519998860001,\n",
       " '2012': 1.2479034081559992,\n",
       " '2013': 13.941610674196998,\n",
       " '2014': 27.249753089537997,\n",
       " '2015': 49.78444966302697,\n",
       " '2016': 71.02395538055896,\n",
       " '2017': 104.72215594121201,\n",
       " '2018': 107.99626279165896}"
      ]
     },
     "execution_count": 4,
     "metadata": {},
     "output_type": "execute_result"
    }
   ],
   "source": [
    "# 2nd the PRIDE file sizes per date\n",
    "date_volume_map = {}\n",
    "\n",
    "with open(\"pride_growth/file_volumes_per_date.tsv\", \"r\") as fh: content = fh.readlines()\n",
    "    \n",
    "for line in content:\n",
    "        date, volume = line.strip().split(\"\\t\")\n",
    "        # convert from Byte to Tbyte\n",
    "        volume = float(volume) / (10**12)\n",
    "        year = date.split(\"-\")[0]\n",
    "        if not date_volume_map.get(year):\n",
    "            date_volume_map[year] = volume\n",
    "        else:\n",
    "            date_volume_map[year] += volume\n",
    "date_volume_map"
   ]
  },
  {
   "cell_type": "code",
   "execution_count": 5,
   "metadata": {},
   "outputs": [
    {
     "data": {
      "text/plain": [
       "{'2005': 0.000249712625,\n",
       " '2006': 0.0012825201040000001,\n",
       " '2007': 0.008231925781,\n",
       " '2008': 0.114285077684,\n",
       " '2009': 0.390139347051,\n",
       " '2010': 0.526702167103,\n",
       " '2011': 0.8406541669890001,\n",
       " '2012': 2.0885575751449994,\n",
       " '2013': 16.030168249341997,\n",
       " '2014': 43.279921338879994,\n",
       " '2015': 93.06437100190696,\n",
       " '2016': 164.08832638246594,\n",
       " '2017': 268.81048232367795,\n",
       " '2018': 376.8067451153369}"
      ]
     },
     "execution_count": 5,
     "metadata": {},
     "output_type": "execute_result"
    }
   ],
   "source": [
    "# Accumulate accessions per year\n",
    "acc_year_volume_map = {}\n",
    "acc_sum = 0\n",
    "for year, volumes in date_volume_map.items():\n",
    "    acc_sum += volumes\n",
    "    acc_year_volume_map[year] = acc_sum\n",
    "acc_year_volume_map"
   ]
  },
  {
   "cell_type": "code",
   "execution_count": 6,
   "metadata": {},
   "outputs": [],
   "source": [
    "plot_dict = {\n",
    "    'projects per year': list(acc_year_project_map.values()),\n",
    "    'repository size per year': list(acc_year_volume_map.values())\n",
    "}\n",
    "data = pd.DataFrame.from_dict(plot_dict)\n",
    "data.index = acc_year_project_map.keys()"
   ]
  },
  {
   "cell_type": "code",
   "execution_count": 142,
   "metadata": {},
   "outputs": [
    {
     "data": {
      "text/plain": [
       "[(0.86, 0.33999999999999997, 0.6519999999999999),\n",
       " (0.86, 0.8079999999999997, 0.33999999999999997),\n",
       " (0.33999999999999997, 0.86, 0.5479999999999998),\n",
       " (0.33999999999999997, 0.3920000000000001, 0.86)]"
      ]
     },
     "execution_count": 142,
     "metadata": {},
     "output_type": "execute_result"
    }
   ],
   "source": [
    "color_palette = sn.hls_palette(4, 0.9)\n",
    "color_palette"
   ]
  },
  {
   "cell_type": "code",
   "execution_count": 161,
   "metadata": {},
   "outputs": [
    {
     "data": {
      "image/png": "[encoded data removed]",
      "text/plain": [
       "<Figure size 576x288 with 2 Axes>"
      ]
     },
     "metadata": {},
     "output_type": "display_data"
    }
   ],
   "source": [
    "fig, ax = plt.subplots()\n",
    "fig.set_size_inches(8, 4)\n",
    "sns_plot = sn.lineplot(data=data.loc[:,'repository size per year'], legend=False, color=color_palette[2] )\n",
    "sns_plot.set(title=\"PRIDE repository development\",\n",
    "            xlabel=\"Year\")\n",
    "sns_plot.set(ylabel=\"Data volume [Tbyte]\")\n",
    "\n",
    "sns_plot.twinx()\n",
    "\n",
    "sns_plot2 = sn.lineplot(data=data.loc[:,'projects per year'], legend=False, color=color_palette[3])\n",
    "sns_plot2.set(ylabel=\"Project amount\")\n",
    "sns_plot2.autoscale_view()\n",
    "sns_plot.get_figure().legend([\"repository size\", \"registered projects\"], loc=(0.15,0.70))\n",
    "sns_plot2.get_figure().savefig(\"figures/pride_growth.eps\", dpi=300)\n",
    "sns_plot2.get_figure().savefig(\"figures/pride_growth.png\", dpi=300)"
   ]
  },
  {
   "cell_type": "code",
   "execution_count": 157,
   "metadata": {
    "scrolled": true
   },
   "outputs": [
    {
     "data": {
      "application/vnd.jupyter.widget-view+json": {
       "model_id": "97f062727d404d569b89688dde17cba1",
       "version_major": 2,
       "version_minor": 0
      }
     },
     "metadata": {},
     "output_type": "display_data"
    }
   ],
   "source": [
    "# Now the plot for the visualization of multi-omics study development\n",
    "pubmed_data = pd.read_csv(\"multiomics_growth/results.csv\", delimiter=\",\")\n",
    "pubmed_data\n"
   ]
  },
  {
   "cell_type": "code",
   "execution_count": null,
   "metadata": {},
   "outputs": [],
   "source": [
    "sn.stripplo"
   ]
  },
  {
   "cell_type": "code",
   "execution_count": 158,
   "metadata": {},
   "outputs": [
    {
     "data": {
      "image/png": "[encoded data removed]",
      "text/plain": [
       "<Figure size 777.6x432 with 1 Axes>"
      ]
     },
     "metadata": {},
     "output_type": "display_data"
    }
   ],
   "source": [
    "sn.set_style(\"ticks\")\n",
    "sns_plot2 = sn.catplot(x=\"year\", y=\"number\", hue=\"omics layers\", data=pubmed_data, kind=\"bar\", legend_out=False, margin_titles=True, aspect=1.8, height=6, palette=sn.hls_palette(4, 0.9))\n",
    "sns_plot2.set(xlabel=\"\", ylabel=\"\", title=\"Published multiomics studies, per year\")\n",
    "legend.set()\n",
    "\n",
    "sns_plot2.savefig(\"figures/multiomics_growth.eps\", dpi=300)\n",
    "sns_plot2.savefig(\"figures/multiomics_growth.png\", dpi=300)"
   ]
  }
 ],
 "metadata": {
  "kernelspec": {
   "display_name": "Python 3",
   "language": "python",
   "name": "python3"
  },
  "language_info": {
   "codemirror_mode": {
    "name": "ipython",
    "version": 3
   },
   "file_extension": ".py",
   "mimetype": "text/x-python",
   "name": "python",
   "nbconvert_exporter": "python",
   "pygments_lexer": "ipython3",
   "version": "3.6.6"
  },
  "toc": {
   "base_numbering": 1,
   "nav_menu": {},
   "number_sections": false,
   "sideBar": false,
   "skip_h1_title": false,
   "title_cell": "Table of Contents",
   "title_sidebar": "Contents",
   "toc_cell": false,
   "toc_position": {},
   "toc_section_display": false,
   "toc_window_display": false
  }
 },
 "nbformat": 4,
 "nbformat_minor": 2
}
